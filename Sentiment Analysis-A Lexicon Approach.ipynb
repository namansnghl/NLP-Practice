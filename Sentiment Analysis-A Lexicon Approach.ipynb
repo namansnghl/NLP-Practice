{
 "cells": [
  {
   "cell_type": "markdown",
   "metadata": {},
   "source": [
    "# What is Sentiment Analysis\n",
    "\n",
    "Sentiment analysis or opinion mining is an advanced technique to gain insights about emotions/sentiments of the person by evaluating a series of words.\n",
    "\n",
    "#### Usual Process\n",
    "- Tokenize the input into its component sentences or words.\n",
    "- Identify and tag each token with a part-of-speech component (i.e., noun, verb, determiners, sentence subject, etc).\n",
    "- Assign a sentiment score from -1 to 1.\n",
    "- Return score and optional scores such as compound score, subjectivity, etc.\n",
    "\n",
    "In this notebook we will use a Lexicon Based approach"
   ]
  },
  {
   "cell_type": "code",
   "execution_count": 1,
   "metadata": {},
   "outputs": [
    {
     "name": "stdout",
     "output_type": "stream",
     "text": [
      "He likes sweets\n",
      "He doesn't have to commute to work\n",
      "I hate him\n",
      "India is one of the best countries in the world\n",
      "Sunita is a good girl\n",
      "We were not sad when he moved away\n"
     ]
    }
   ],
   "source": [
    "input = '''He likes sweets.\n",
    "He doesn't have to commute to work.\n",
    "I hate him.\n",
    "India is one of the best countries in the world.\n",
    "Sunita is a good girl.\n",
    "We were not sad when he moved away'''.split('.')\n",
    "sentences = [x.strip() for x in input]\n",
    "print(*sentences,sep=\"\\n\")"
   ]
  },
  {
   "cell_type": "markdown",
   "metadata": {},
   "source": [
    "# Method 1 - Using Vader"
   ]
  },
  {
   "cell_type": "code",
   "execution_count": 2,
   "metadata": {},
   "outputs": [],
   "source": [
    "%config Completer.use_jedi = False"
   ]
  },
  {
   "cell_type": "code",
   "execution_count": 3,
   "metadata": {},
   "outputs": [
    {
     "name": "stdout",
     "output_type": "stream",
     "text": [
      "Requirement already satisfied: vaderSentiment in c:\\users\\princ\\anaconda3\\lib\\site-packages (3.3.2)\n",
      "Requirement already satisfied: requests in c:\\users\\princ\\anaconda3\\lib\\site-packages (from vaderSentiment) (2.22.0)\n",
      "Requirement already satisfied: idna<2.9,>=2.5 in c:\\users\\princ\\anaconda3\\lib\\site-packages (from requests->vaderSentiment) (2.8)\n",
      "Requirement already satisfied: chardet<3.1.0,>=3.0.2 in c:\\users\\princ\\anaconda3\\lib\\site-packages (from requests->vaderSentiment) (3.0.4)\n",
      "Requirement already satisfied: urllib3!=1.25.0,!=1.25.1,<1.26,>=1.21.1 in c:\\users\\princ\\anaconda3\\lib\\site-packages (from requests->vaderSentiment) (1.25.8)\n",
      "Requirement already satisfied: certifi>=2017.4.17 in c:\\users\\princ\\anaconda3\\lib\\site-packages (from requests->vaderSentiment) (2019.11.28)\n"
     ]
    }
   ],
   "source": [
    "!pip install vaderSentiment\n",
    "from vaderSentiment.vaderSentiment import SentimentIntensityAnalyzer"
   ]
  },
  {
   "cell_type": "code",
   "execution_count": 4,
   "metadata": {},
   "outputs": [],
   "source": [
    "analyzer = SentimentIntensityAnalyzer()"
   ]
  },
  {
   "cell_type": "code",
   "execution_count": 5,
   "metadata": {},
   "outputs": [],
   "source": [
    "def print_sentiment_scores(sentence):\n",
    "    vadersenti = analyzer.polarity_scores(sentence)\n",
    "    print('{:-<50} Positive-{:-<7} Negative-{:-<7} Neutral-{:-<7}'.format(sentence,vadersenti['pos'], vadersenti['neg'], vadersenti['neu']))"
   ]
  },
  {
   "cell_type": "code",
   "execution_count": 6,
   "metadata": {
    "scrolled": true
   },
   "outputs": [
    {
     "name": "stdout",
     "output_type": "stream",
     "text": [
      "Scores:\n",
      "\n",
      "He likes sweets----------------------------------- Positive-0.857-- Negative-0.0---- Neutral-0.143--\n",
      "He doesn't have to commute to work---------------- Positive-0.0---- Negative-0.0---- Neutral-1.0----\n",
      "I hate him---------------------------------------- Positive-0.0---- Negative-0.649-- Neutral-0.351--\n",
      "India is one of the best countries in the world--- Positive-0.318-- Negative-0.0---- Neutral-0.682--\n",
      "Sunita is a good girl----------------------------- Positive-0.42--- Negative-0.0---- Neutral-0.58---\n",
      "We were not sad when he moved away---------------- Positive-0.267-- Negative-0.0---- Neutral-0.733--\n"
     ]
    }
   ],
   "source": [
    "print('Scores:\\n')\n",
    "for i in sentences:\n",
    "    print_sentiment_scores(i)"
   ]
  },
  {
   "cell_type": "markdown",
   "metadata": {},
   "source": [
    "# Method 2 - Using TextBlob"
   ]
  },
  {
   "cell_type": "code",
   "execution_count": 7,
   "metadata": {},
   "outputs": [
    {
     "name": "stdout",
     "output_type": "stream",
     "text": [
      "Requirement already satisfied: textblob in c:\\users\\princ\\anaconda3\\lib\\site-packages (0.15.3)\n",
      "Requirement already satisfied: nltk>=3.1 in c:\\users\\princ\\anaconda3\\lib\\site-packages (from textblob) (3.4.5)\n",
      "Requirement already satisfied: six in c:\\users\\princ\\anaconda3\\lib\\site-packages (from nltk>=3.1->textblob) (1.14.0)\n"
     ]
    }
   ],
   "source": [
    "!pip install textblob\n",
    "from textblob import TextBlob"
   ]
  },
  {
   "cell_type": "code",
   "execution_count": 8,
   "metadata": {},
   "outputs": [
    {
     "name": "stdout",
     "output_type": "stream",
     "text": [
      "TextBlob outputs a sentiment function with attributes 'Polarity' and 'Sujective' \n",
      "The polarity ranges from -1.0 to +1.0\n",
      "if < 0.0 = Negativity\n",
      "0.0 = Neural\n",
      "if > 0.0 = Positivity\n",
      "\n",
      "\n",
      "He likes sweets----------------------------------- Polarity = 0.0\n",
      "He doesn't have to commute to work---------------- Polarity = 0.0\n",
      "I hate him---------------------------------------- Polarity = -0.8\n",
      "India is one of the best countries in the world--- Polarity = 1.0\n",
      "Sunita is a good girl----------------------------- Polarity = 0.7\n",
      "We were not sad when he moved away---------------- Polarity = 0.25\n"
     ]
    }
   ],
   "source": [
    "blob = list(map(TextBlob,sentences))\n",
    "\n",
    "print('''TextBlob outputs a sentiment function with attributes \\'Polarity\\' and \\'Sujective\\' \n",
    "The polarity ranges from -1.0 to +1.0\n",
    "if < 0.0 = Negativity\n",
    "0.0 = Neural\n",
    "if > 0.0 = Positivity\\n\\n''')\n",
    "for i in range(len(sentences)):\n",
    "    print('{:-<50} Polarity = {}'.format(sentences[i],blob[i].sentiment.polarity))"
   ]
  },
  {
   "cell_type": "markdown",
   "metadata": {},
   "source": [
    "## Conclusion\n",
    "\n",
    "We Observed that the Vader Semantic Tool gives a better semantic analysis than TextBlob with more details."
   ]
  }
 ],
 "metadata": {
  "kernelspec": {
   "display_name": "Python 3",
   "language": "python",
   "name": "python3"
  },
  "language_info": {
   "codemirror_mode": {
    "name": "ipython",
    "version": 3
   },
   "file_extension": ".py",
   "mimetype": "text/x-python",
   "name": "python",
   "nbconvert_exporter": "python",
   "pygments_lexer": "ipython3",
   "version": "3.7.6"
  }
 },
 "nbformat": 4,
 "nbformat_minor": 4
}
